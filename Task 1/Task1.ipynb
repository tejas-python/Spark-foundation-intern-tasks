{
  "nbformat": 4,
  "nbformat_minor": 0,
  "metadata": {
    "colab": {
      "name": "Untitled1.ipynb",
      "provenance": [],
      "collapsed_sections": []
    },
    "kernelspec": {
      "name": "python3",
      "display_name": "Python 3"
    }
  },
  "cells": [
    {
      "cell_type": "markdown",
      "metadata": {
        "id": "MIZ7VV9lbyZc"
      },
      "source": [
        "# TEJAS A"
      ]
    },
    {
      "cell_type": "markdown",
      "metadata": {
        "id": "dRUrw85Hb2OB"
      },
      "source": [
        "## TASK 1\r\n",
        "Prediction using Supervised ML\r\n",
        "\r\n",
        "(Level - Beginner)\r\n",
        "\r\n",
        "● Predict the percentage of an student based on the no. of study hours.\r\n",
        "\r\n",
        "● This is a simple linear regression task as it involves just 2 variables.\r\n",
        "\r\n",
        "● You can use R, Python, SAS Enterprise Miner or any other tool\r\n",
        "\r\n",
        "● Data can be found at http://bit.ly/w-data\r\n",
        "\r\n",
        "● What will be predicted score if a student studies for 9.25 hrs/ day?\r\n"
      ]
    },
    {
      "cell_type": "markdown",
      "metadata": {
        "id": "YJbooT5VcIx8"
      },
      "source": [
        "## Regression\r\n",
        "What Is Regression?\r\n",
        "\r\n",
        "Regression is a statistical method used in finance, investing, and other disciplines that attempts to determine the strength and character of the relationship between one dependent variable (usually denoted by Y) and a series of other variables (known as independent variables).\r\n",
        "\r\n"
      ]
    },
    {
      "cell_type": "markdown",
      "metadata": {
        "id": "1nDHfjrtc2hj"
      },
      "source": [
        "A linear regression line has an equation of the form Y = a + bX, where X is the explanatory variable and Y is the dependent variable. The slope of the line is b, and a is the intercept (the value of y when x = 0)."
      ]
    },
    {
      "cell_type": "markdown",
      "metadata": {
        "id": "0mpKW7MZcEuA"
      },
      "source": [
        "## Simple Linear Regression \r\n",
        " What is Simple Linear Regression?\r\n",
        "\r\n",
        "Simple linear regression is a statistical method that allows us to summarize and study relationships between two continuous (quantitative) variables:\r\n",
        "\r\n",
        "\r\n",
        "\r\n",
        "*  One variable, denoted x, is regarded as the predictor, explanatory, or independent variable.\r\n",
        "*  \r\n",
        "The other variable, denoted y, is regarded as the response, outcome, or dependent variable.\r\n",
        "\r\n",
        "\r\n"
      ]
    },
    {
      "cell_type": "markdown",
      "metadata": {
        "id": "5uxs_saDdZIc"
      },
      "source": [
        "\r\n",
        "## Supervised learning\r\n",
        "Supervised learning is the machine learning task of learning a function that maps an input to an output based on example input-output pairs. It infers a function from labeled training data consisting of a set of training examples."
      ]
    },
    {
      "cell_type": "markdown",
      "metadata": {
        "id": "JyMvSE5ed43k"
      },
      "source": [
        "# TASK\r\n",
        "To predict the percentage of the student if the number of hours studied by the student is given using supervised and simple linear regression method"
      ]
    },
    {
      "cell_type": "code",
      "metadata": {
        "id": "8e0Z3BhybxEx"
      },
      "source": [
        "## Importing the library \r\n",
        "import pandas as pd \r\n",
        "import seaborn as sns\r\n",
        "import matplotlib.pyplot as plt\r\n",
        "import numpy as np \r\n",
        "%matplotlib inline "
      ],
      "execution_count": 3,
      "outputs": []
    },
    {
      "cell_type": "code",
      "metadata": {
        "colab": {
          "base_uri": "https://localhost:8080/",
          "height": 229
        },
        "id": "Nq3Woro_eSrH",
        "outputId": "2feb4126-7b78-4e18-da61-fad19a7b0ae0"
      },
      "source": [
        "## to read the data from the link \r\n",
        "\r\n",
        "\r\n",
        "data = pd.read_csv(\"https://raw.githubusercontent.com/AdiPersonalWorks/Random/master/student_scores%20-%20student_scores.csv\")\r\n",
        "print(\"data was loaded\")\r\n",
        "print(\"shape od dataframe is =\",data.shape)\r\n",
        "data.head()"
      ],
      "execution_count": 8,
      "outputs": [
        {
          "output_type": "stream",
          "text": [
            "data was loaded\n",
            "shape od dataframe is = (25, 2)\n"
          ],
          "name": "stdout"
        },
        {
          "output_type": "execute_result",
          "data": {
            "text/html": [
              "<div>\n",
              "<style scoped>\n",
              "    .dataframe tbody tr th:only-of-type {\n",
              "        vertical-align: middle;\n",
              "    }\n",
              "\n",
              "    .dataframe tbody tr th {\n",
              "        vertical-align: top;\n",
              "    }\n",
              "\n",
              "    .dataframe thead th {\n",
              "        text-align: right;\n",
              "    }\n",
              "</style>\n",
              "<table border=\"1\" class=\"dataframe\">\n",
              "  <thead>\n",
              "    <tr style=\"text-align: right;\">\n",
              "      <th></th>\n",
              "      <th>Hours</th>\n",
              "      <th>Scores</th>\n",
              "    </tr>\n",
              "  </thead>\n",
              "  <tbody>\n",
              "    <tr>\n",
              "      <th>0</th>\n",
              "      <td>2.5</td>\n",
              "      <td>21</td>\n",
              "    </tr>\n",
              "    <tr>\n",
              "      <th>1</th>\n",
              "      <td>5.1</td>\n",
              "      <td>47</td>\n",
              "    </tr>\n",
              "    <tr>\n",
              "      <th>2</th>\n",
              "      <td>3.2</td>\n",
              "      <td>27</td>\n",
              "    </tr>\n",
              "    <tr>\n",
              "      <th>3</th>\n",
              "      <td>8.5</td>\n",
              "      <td>75</td>\n",
              "    </tr>\n",
              "    <tr>\n",
              "      <th>4</th>\n",
              "      <td>3.5</td>\n",
              "      <td>30</td>\n",
              "    </tr>\n",
              "  </tbody>\n",
              "</table>\n",
              "</div>"
            ],
            "text/plain": [
              "   Hours  Scores\n",
              "0    2.5      21\n",
              "1    5.1      47\n",
              "2    3.2      27\n",
              "3    8.5      75\n",
              "4    3.5      30"
            ]
          },
          "metadata": {
            "tags": []
          },
          "execution_count": 8
        }
      ]
    },
    {
      "cell_type": "markdown",
      "metadata": {
        "id": "xRWFO75ce50C"
      },
      "source": [
        "## From the above code we can see that the data  shape is 25 rows and 2 colomns "
      ]
    },
    {
      "cell_type": "code",
      "metadata": {
        "colab": {
          "base_uri": "https://localhost:8080/"
        },
        "id": "D5Lb2s4UevuK",
        "outputId": "fea32fb1-8bb9-4fec-bbf6-dd211b2512e2"
      },
      "source": [
        "data.columns"
      ],
      "execution_count": 7,
      "outputs": [
        {
          "output_type": "execute_result",
          "data": {
            "text/plain": [
              "Index(['Hours', 'Scores'], dtype='object')"
            ]
          },
          "metadata": {
            "tags": []
          },
          "execution_count": 7
        }
      ]
    },
    {
      "cell_type": "markdown",
      "metadata": {
        "id": "beCMMtI5fSx7"
      },
      "source": [
        "## The columns are hours of study and scores "
      ]
    },
    {
      "cell_type": "code",
      "metadata": {
        "colab": {
          "base_uri": "https://localhost:8080/"
        },
        "id": "QMO9Ye2Ke2WH",
        "outputId": "75718ab6-23ef-4c8a-ebc2-1c89d0a1f1ca"
      },
      "source": [
        "data.info()"
      ],
      "execution_count": 10,
      "outputs": [
        {
          "output_type": "stream",
          "text": [
            "<class 'pandas.core.frame.DataFrame'>\n",
            "RangeIndex: 25 entries, 0 to 24\n",
            "Data columns (total 2 columns):\n",
            " #   Column  Non-Null Count  Dtype  \n",
            "---  ------  --------------  -----  \n",
            " 0   Hours   25 non-null     float64\n",
            " 1   Scores  25 non-null     int64  \n",
            "dtypes: float64(1), int64(1)\n",
            "memory usage: 528.0 bytes\n"
          ],
          "name": "stdout"
        }
      ]
    },
    {
      "cell_type": "markdown",
      "metadata": {
        "id": "ws7HpnKIfdnc"
      },
      "source": [
        "## The above command we can see the types for hours is float and the score is int \r\n",
        "\r\n",
        "\r\n",
        "\r\n",
        "## Lets plot a and check the relation between them "
      ]
    },
    {
      "cell_type": "code",
      "metadata": {
        "colab": {
          "base_uri": "https://localhost:8080/",
          "height": 313
        },
        "id": "0AfVTfScfaQU",
        "outputId": "25a654c9-7433-4358-f763-57f074f893f4"
      },
      "source": [
        "sns.scatterplot(x=data.Hours,y=data.Scores,data=data).set_title(\"scatter plot Hours of study vs Score\")"
      ],
      "execution_count": 12,
      "outputs": [
        {
          "output_type": "execute_result",
          "data": {
            "text/plain": [
              "Text(0.5, 1.0, 'scatter plot Hours of study vs Score')"
            ]
          },
          "metadata": {
            "tags": []
          },
          "execution_count": 12
        },
        {
          "output_type": "display_data",
          "data": {
            "image/png": "[encoded data removed]",
            "text/plain": [
              "<Figure size 432x288 with 1 Axes>"
            ]
          },
          "metadata": {
            "tags": [],
            "needs_background": "light"
          }
        }
      ]
    },
    {
      "cell_type": "code",
      "metadata": {
        "colab": {
          "base_uri": "https://localhost:8080/",
          "height": 313
        },
        "id": "t8alUeOIhQaR",
        "outputId": "2b6288e9-807d-4c42-ad92-beb5f2478c25"
      },
      "source": [
        "sns.regplot(x=data.Hours,y=data.Scores,data=data).set_title(\"reg plot Hours of study vs Score\")"
      ],
      "execution_count": 54,
      "outputs": [
        {
          "output_type": "execute_result",
          "data": {
            "text/plain": [
              "Text(0.5, 1.0, 'reg plot Hours of study vs Score')"
            ]
          },
          "metadata": {
            "tags": []
          },
          "execution_count": 54
        },
        {
          "output_type": "display_data",
          "data": {
            "image/png": "[encoded data removed]",
            "text/plain": [
              "<Figure size 432x288 with 1 Axes>"
            ]
          },
          "metadata": {
            "tags": [],
            "needs_background": "light"
          }
        }
      ]
    },
    {
      "cell_type": "markdown",
      "metadata": {
        "id": "5lZNOJQagPHE"
      },
      "source": [
        "## From the above graph we can see that there is a linear relation between the Hours and Score"
      ]
    },
    {
      "cell_type": "code",
      "metadata": {
        "colab": {
          "base_uri": "https://localhost:8080/",
          "height": 282
        },
        "id": "MPsKzSe-gqqr",
        "outputId": "22b66e32-f18e-45ff-88a2-f20d00b7f5fd"
      },
      "source": [
        "data.describe()"
      ],
      "execution_count": 15,
      "outputs": [
        {
          "output_type": "execute_result",
          "data": {
            "text/html": [
              "<div>\n",
              "<style scoped>\n",
              "    .dataframe tbody tr th:only-of-type {\n",
              "        vertical-align: middle;\n",
              "    }\n",
              "\n",
              "    .dataframe tbody tr th {\n",
              "        vertical-align: top;\n",
              "    }\n",
              "\n",
              "    .dataframe thead th {\n",
              "        text-align: right;\n",
              "    }\n",
              "</style>\n",
              "<table border=\"1\" class=\"dataframe\">\n",
              "  <thead>\n",
              "    <tr style=\"text-align: right;\">\n",
              "      <th></th>\n",
              "      <th>Hours</th>\n",
              "      <th>Scores</th>\n",
              "    </tr>\n",
              "  </thead>\n",
              "  <tbody>\n",
              "    <tr>\n",
              "      <th>count</th>\n",
              "      <td>25.000000</td>\n",
              "      <td>25.000000</td>\n",
              "    </tr>\n",
              "    <tr>\n",
              "      <th>mean</th>\n",
              "      <td>5.012000</td>\n",
              "      <td>51.480000</td>\n",
              "    </tr>\n",
              "    <tr>\n",
              "      <th>std</th>\n",
              "      <td>2.525094</td>\n",
              "      <td>25.286887</td>\n",
              "    </tr>\n",
              "    <tr>\n",
              "      <th>min</th>\n",
              "      <td>1.100000</td>\n",
              "      <td>17.000000</td>\n",
              "    </tr>\n",
              "    <tr>\n",
              "      <th>25%</th>\n",
              "      <td>2.700000</td>\n",
              "      <td>30.000000</td>\n",
              "    </tr>\n",
              "    <tr>\n",
              "      <th>50%</th>\n",
              "      <td>4.800000</td>\n",
              "      <td>47.000000</td>\n",
              "    </tr>\n",
              "    <tr>\n",
              "      <th>75%</th>\n",
              "      <td>7.400000</td>\n",
              "      <td>75.000000</td>\n",
              "    </tr>\n",
              "    <tr>\n",
              "      <th>max</th>\n",
              "      <td>9.200000</td>\n",
              "      <td>95.000000</td>\n",
              "    </tr>\n",
              "  </tbody>\n",
              "</table>\n",
              "</div>"
            ],
            "text/plain": [
              "           Hours     Scores\n",
              "count  25.000000  25.000000\n",
              "mean    5.012000  51.480000\n",
              "std     2.525094  25.286887\n",
              "min     1.100000  17.000000\n",
              "25%     2.700000  30.000000\n",
              "50%     4.800000  47.000000\n",
              "75%     7.400000  75.000000\n",
              "max     9.200000  95.000000"
            ]
          },
          "metadata": {
            "tags": []
          },
          "execution_count": 15
        }
      ]
    },
    {
      "cell_type": "markdown",
      "metadata": {
        "id": "3DacbG4Sgxw7"
      },
      "source": [
        "## The above function gives the basic statistics of the data like min,max,std .."
      ]
    },
    {
      "cell_type": "code",
      "metadata": {
        "colab": {
          "base_uri": "https://localhost:8080/"
        },
        "id": "yR6KKrbqgNj3",
        "outputId": "2a782095-7225-471f-8f1d-d521581dee75"
      },
      "source": [
        "(data['Hours']).corr(data['Scores'])"
      ],
      "execution_count": 16,
      "outputs": [
        {
          "output_type": "execute_result",
          "data": {
            "text/plain": [
              "0.9761906560220887"
            ]
          },
          "metadata": {
            "tags": []
          },
          "execution_count": 16
        }
      ]
    },
    {
      "cell_type": "markdown",
      "metadata": {
        "id": "yc0x_7xegpaj"
      },
      "source": [
        "# We can that see  the correlation between the two coloums is almost equal to one which says highly correlated"
      ]
    },
    {
      "cell_type": "markdown",
      "metadata": {
        "id": "inmFj4HHhCan"
      },
      "source": [
        ""
      ]
    },
    {
      "cell_type": "markdown",
      "metadata": {
        "id": "37ymPzJ3hcTI"
      },
      "source": [
        "## Lets start to train the model \r\n",
        " the independent variable is the Hours and the dependent variable is the Scores as we need to predict the scores"
      ]
    },
    {
      "cell_type": "code",
      "metadata": {
        "id": "OTynrJj4go8O"
      },
      "source": [
        "X = data['Hours'].to_numpy().reshape(-1,1) #Independent variable x \r\n",
        "y =data['Scores'].to_numpy().reshape(-1,1)# dependent variable "
      ],
      "execution_count": 27,
      "outputs": []
    },
    {
      "cell_type": "markdown",
      "metadata": {
        "id": "mVxK0TrbisNf"
      },
      "source": [
        "## lets split the data to train and test sets using scikit learning  library "
      ]
    },
    {
      "cell_type": "code",
      "metadata": {
        "id": "MIfBZGLKgKYx"
      },
      "source": [
        "from sklearn.model_selection import train_test_split\r\n",
        "X_train, X_test, y_train, y_test = train_test_split(X, y, test_size=0.10, random_state=42)"
      ],
      "execution_count": 28,
      "outputs": []
    },
    {
      "cell_type": "markdown",
      "metadata": {
        "id": "1JfhDZC0jQhs"
      },
      "source": [
        "## So the data is split into train and test lets further move to develop the model using regrestion fit from sikit learn"
      ]
    },
    {
      "cell_type": "code",
      "metadata": {
        "colab": {
          "base_uri": "https://localhost:8080/"
        },
        "id": "ocw9wFD6jPiX",
        "outputId": "fa50fdd9-1d75-47d0-9df8-7506b19bd6b3"
      },
      "source": [
        "from sklearn.linear_model import LinearRegression  \r\n",
        "reg = LinearRegression()  \r\n",
        "reg.fit(X_train, y_train) \r\n",
        "\r\n",
        "print(\"Training complete.\")"
      ],
      "execution_count": 30,
      "outputs": [
        {
          "output_type": "stream",
          "text": [
            "Training complete.\n"
          ],
          "name": "stdout"
        }
      ]
    },
    {
      "cell_type": "code",
      "metadata": {
        "colab": {
          "base_uri": "https://localhost:8080/"
        },
        "id": "7aN-4Z2NiNMM",
        "outputId": "388216ad-7518-4ea7-8880-a3a733293ab8"
      },
      "source": [
        "print(\"intercept =\",reg.intercept_,\"coeff is =\",reg.coef_)"
      ],
      "execution_count": 33,
      "outputs": [
        {
          "output_type": "stream",
          "text": [
            "intercept = [2.69128676] coeff is = [[9.78385439]]\n"
          ],
          "name": "stdout"
        }
      ]
    },
    {
      "cell_type": "code",
      "metadata": {
        "colab": {
          "base_uri": "https://localhost:8080/",
          "height": 265
        },
        "id": "95qu4snzkFVx",
        "outputId": "fc9c0e1b-bf24-4dc0-8f9e-f28af5bb48c4"
      },
      "source": [
        "line = reg.coef_*X+reg.intercept_\r\n",
        "\r\n",
        "# Plotting for the test data\r\n",
        "plt.scatter(X, y)\r\n",
        "plt.plot(X, line);\r\n",
        "plt.show()"
      ],
      "execution_count": 34,
      "outputs": [
        {
          "output_type": "display_data",
          "data": {
            "image/png": "[encoded data removed]",
            "text/plain": [
              "<Figure size 432x288 with 1 Axes>"
            ]
          },
          "metadata": {
            "tags": [],
            "needs_background": "light"
          }
        }
      ]
    },
    {
      "cell_type": "markdown",
      "metadata": {
        "id": "STdLegIYkqci"
      },
      "source": [
        "## Now lets predict on the test data "
      ]
    },
    {
      "cell_type": "code",
      "metadata": {
        "colab": {
          "base_uri": "https://localhost:8080/"
        },
        "id": "-yYZskgrkg6T",
        "outputId": "d009d6eb-add3-499b-82bd-40223191cd99"
      },
      "source": [
        "yhat = reg.predict(X_test)\r\n",
        "print(\"pred\",yhat)\r\n",
        "print(\"actual\",y_test)"
      ],
      "execution_count": 53,
      "outputs": [
        {
          "output_type": "stream",
          "text": [
            "pred [[83.89727817]\n",
            " [27.15092273]\n",
            " [27.15092273]]\n",
            "actual [[81]\n",
            " [30]\n",
            " [21]]\n"
          ],
          "name": "stdout"
        }
      ]
    },
    {
      "cell_type": "markdown",
      "metadata": {
        "id": "f3WwmH5TlBAm"
      },
      "source": [
        "## after predicting the lets chek the acuracy of our model "
      ]
    },
    {
      "cell_type": "code",
      "metadata": {
        "colab": {
          "base_uri": "https://localhost:8080/"
        },
        "id": "hxpLyziWkws6",
        "outputId": "6381c30f-9249-44c0-c443-66a7f4c0ec37"
      },
      "source": [
        "reg.score(X_test,y_test)"
      ],
      "execution_count": 38,
      "outputs": [
        {
          "output_type": "execute_result",
          "data": {
            "text/plain": [
              "0.974047128713709"
            ]
          },
          "metadata": {
            "tags": []
          },
          "execution_count": 38
        }
      ]
    },
    {
      "cell_type": "markdown",
      "metadata": {
        "id": "HgqqBwa6l2U-"
      },
      "source": [
        "## We can see that the acuracy is almost about 97%"
      ]
    },
    {
      "cell_type": "markdown",
      "metadata": {
        "id": "N9cYigsonrUW"
      },
      "source": [
        "## Now lets try to pridict the SCoure for the given hours which is 9.5"
      ]
    },
    {
      "cell_type": "code",
      "metadata": {
        "colab": {
          "base_uri": "https://localhost:8080/"
        },
        "id": "jyfyL8W3nJyz",
        "outputId": "caafb440-c324-4022-dec1-0dec640c05f0"
      },
      "source": [
        "hours = np.array([9.25]).reshape(-1,1)\r\n",
        "pred = reg.predict(hours)\r\n",
        "print(\"No of Hours = {}\".format(hours))\r\n",
        "print(\"Predicted Score = {}\".format(pred[0]))"
      ],
      "execution_count": 50,
      "outputs": [
        {
          "output_type": "stream",
          "text": [
            "No of Hours = [[9.25]]\n",
            "Predicted Score = [93.19193983]\n"
          ],
          "name": "stdout"
        }
      ]
    },
    {
      "cell_type": "markdown",
      "metadata": {
        "id": "tp935_HGoo49"
      },
      "source": [
        "# The percentage of a student who studies for 9.5 hourse is 93.1%"
      ]
    },
    {
      "cell_type": "code",
      "metadata": {
        "colab": {
          "base_uri": "https://localhost:8080/"
        },
        "id": "i_Up1KNiooaY",
        "outputId": "17ee057a-ca09-416b-f454-89ad905f3e5a"
      },
      "source": [
        "#lets try for 8.5\r\n",
        "hours = np.array([8.5]).reshape(-1,1)\r\n",
        "pred = reg.predict(hours)\r\n",
        "print(\"No of Hours = {}\".format(hours))\r\n",
        "print(\"Predicted Score = {}\".format(pred[0]))"
      ],
      "execution_count": 51,
      "outputs": [
        {
          "output_type": "stream",
          "text": [
            "No of Hours = [[8.5]]\n",
            "Predicted Score = [85.85404904]\n"
          ],
          "name": "stdout"
        }
      ]
    },
    {
      "cell_type": "markdown",
      "metadata": {
        "id": "KRom8noUnG6T"
      },
      "source": [
        "## Model evaluation "
      ]
    },
    {
      "cell_type": "code",
      "metadata": {
        "colab": {
          "base_uri": "https://localhost:8080/"
        },
        "id": "gs68gK6dk5jr",
        "outputId": "2d149e2e-3e36-4f50-a7e6-378b5b18d303"
      },
      "source": [
        "from sklearn.metrics import mean_squared_error\r\n",
        "from sklearn.metrics import r2_score\r\n",
        "print(\"the RMS value is \",mean_squared_error(y_test, yhat))\r\n",
        "print(\"the RMSE value is\",mean_squared_error(y_test, yhat, squared=False))\r\n",
        "print(\"the R2 eroor is \",r2_score(y_test, yhat))"
      ],
      "execution_count": 43,
      "outputs": [
        {
          "output_type": "stream",
          "text": [
            "the RMS value is  18.1151041578311\n",
            "the RMSE value is 4.256184225081323\n",
            "the R2 eroor is  0.974047128713709\n"
          ],
          "name": "stdout"
        }
      ]
    },
    {
      "cell_type": "code",
      "metadata": {
        "id": "HKnGBlRzm8rC"
      },
      "source": [
        ""
      ],
      "execution_count": null,
      "outputs": []
    }
  ]
}